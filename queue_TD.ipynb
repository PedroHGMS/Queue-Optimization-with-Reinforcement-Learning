{
 "cells": [
  {
   "cell_type": "markdown",
   "metadata": {},
   "source": [
    "# Solution to a queue problem using TD Learning"
   ]
  },
  {
   "cell_type": "markdown",
   "metadata": {},
   "source": [
    "# 1 - Imports"
   ]
  },
  {
   "cell_type": "code",
   "execution_count": 52,
   "metadata": {},
   "outputs": [
    {
     "name": "stdout",
     "output_type": "stream",
     "text": [
      "The autoreload extension is already loaded. To reload it, use:\n",
      "  %reload_ext autoreload\n"
     ]
    }
   ],
   "source": [
    "%load_ext autoreload\n",
    "%autoreload 2\n",
    "import class_queue as cq\n",
    "import numpy as np"
   ]
  },
  {
   "cell_type": "markdown",
   "metadata": {},
   "source": [
    "# 2 - Env creation"
   ]
  },
  {
   "cell_type": "markdown",
   "metadata": {},
   "source": [
    "## 2.1 - Creation an print of the env properties"
   ]
  },
  {
   "cell_type": "code",
   "execution_count": 53,
   "metadata": {},
   "outputs": [],
   "source": [
    "queue = cq.Queue(num_sinks=6, array_utilities=['soap', 'soap', 'towel', 'soap', 'towel', 'none'])"
   ]
  },
  {
   "cell_type": "code",
   "execution_count": 54,
   "metadata": {},
   "outputs": [
    {
     "name": "stdout",
     "output_type": "stream",
     "text": [
      "Sink count: 6 sinks\n",
      "Utilities: ['soap', 'soap', 'towel', 'soap', 'towel', 'none']\n",
      "Sink avaiability: 000000\n",
      "\n",
      "Queue growth: 0.5 per iterarion\n",
      "Max away: 5\n",
      "Num agents: 0\n",
      "Queue occupation status: LOW\n",
      "\n",
      "Time spent for each task (mean and sd): {'soap': [10, 1], 'towel': [5, 0.5], 'washing': [3, 0.5]}\n",
      "Agents in queue: []\n"
     ]
    }
   ],
   "source": [
    "print(f'Sink count: {queue.num_sinks} sinks')\n",
    "print(f'Utilities: {queue.array_utilities}')\n",
    "print(f'Sink avaiability: {queue.sinks_availability}\\n')\n",
    "\n",
    "print(f'Queue growth: {queue.queue_growth} per iterarion')\n",
    "print(f'Max away: {queue.away_max_size}')\n",
    "print(f'Num agents: {len(queue.agents)}')\n",
    "print(f'Queue occupation status: {queue.get_occupation()}\\n')\n",
    "\n",
    "print(f'Time spent for each task (mean and sd): {queue.queue_times}')\n",
    "print(f'Agents in queue: {queue.agents}')"
   ]
  },
  {
   "cell_type": "markdown",
   "metadata": {},
   "source": [
    "## 2.2 - Randomization of the env state"
   ]
  },
  {
   "cell_type": "code",
   "execution_count": 55,
   "metadata": {},
   "outputs": [
    {
     "name": "stdout",
     "output_type": "stream",
     "text": [
      "Num agents generated: 10\n",
      "Agents postions, need and iterations_until_action: \n",
      "[('3', 'soap', 0), ('away', 'soap', 0), ('1', 'towel', 0), ('4', 'wait', 0), ('2', 'wait', 0), ('away', 'washing', 0), ('5', 'washing', 0), ('6', 'wait', 0), ('away', 'soap', 0), ('away', 'towel', 0)]\n"
     ]
    }
   ],
   "source": [
    "queue.reset_state()\n",
    "queue.randomize_state()\n",
    "print(f'Num agents generated: {len(queue.agents)}')\n",
    "print(f'Agents postions, need and iterations_until_action: \\n{[(a.position, a.need, a.iterations_until_action) for a in queue.agents]}')"
   ]
  },
  {
   "cell_type": "code",
   "execution_count": 86,
   "metadata": {},
   "outputs": [
    {
     "data": {
      "text/plain": [
       "8"
      ]
     },
     "execution_count": 86,
     "metadata": {},
     "output_type": "execute_result"
    }
   ],
   "source": [
    "queue.get_agents_ready_for_action()\n",
    "queue.sample_action_time('soap')"
   ]
  },
  {
   "cell_type": "code",
   "execution_count": 57,
   "metadata": {},
   "outputs": [
    {
     "data": {
      "text/plain": [
       "(['1', 'soap', '000000', 'LOW'], ['3', 'soap', '000000'])"
      ]
     },
     "execution_count": 57,
     "metadata": {},
     "output_type": "execute_result"
    }
   ],
   "source": [
    "agent = queue.agents[0]\n",
    "list(queue.q_table.iloc[0].values[:-1]), [agent.position, agent.need, queue.sinks_availability]"
   ]
  },
  {
   "cell_type": "code",
   "execution_count": 139,
   "metadata": {},
   "outputs": [
    {
     "data": {
      "text/plain": [
       "1"
      ]
     },
     "execution_count": 139,
     "metadata": {},
     "output_type": "execute_result"
    }
   ],
   "source": [
    "np.random.choice(1)+1"
   ]
  }
 ],
 "metadata": {
  "kernelspec": {
   "display_name": "TP_RL",
   "language": "python",
   "name": "python3"
  },
  "language_info": {
   "codemirror_mode": {
    "name": "ipython",
    "version": 3
   },
   "file_extension": ".py",
   "mimetype": "text/x-python",
   "name": "python",
   "nbconvert_exporter": "python",
   "pygments_lexer": "ipython3",
   "version": "3.10.9"
  }
 },
 "nbformat": 4,
 "nbformat_minor": 2
}
