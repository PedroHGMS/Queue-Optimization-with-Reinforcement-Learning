{
 "cells": [
  {
   "cell_type": "markdown",
   "metadata": {},
   "source": [
    "# Solution to a queue problem using TD Learning"
   ]
  },
  {
   "cell_type": "markdown",
   "metadata": {},
   "source": [
    "# 1 - Imports"
   ]
  },
  {
   "cell_type": "code",
   "execution_count": 31,
   "metadata": {},
   "outputs": [
    {
     "name": "stdout",
     "output_type": "stream",
     "text": [
      "The autoreload extension is already loaded. To reload it, use:\n",
      "  %reload_ext autoreload\n"
     ]
    }
   ],
   "source": [
    "%load_ext autoreload\n",
    "%autoreload 2\n",
    "import class_queue as cq\n",
    "import numpy as np\n",
    "from tqdm.notebook import tqdm"
   ]
  },
  {
   "cell_type": "markdown",
   "metadata": {},
   "source": [
    "# 2 - Env creation"
   ]
  },
  {
   "cell_type": "markdown",
   "metadata": {},
   "source": [
    "## 2.1 - Creation an print of the env properties"
   ]
  },
  {
   "cell_type": "code",
   "execution_count": 43,
   "metadata": {},
   "outputs": [],
   "source": [
    "queue = cq.Queue(num_sinks=6, array_utilities=[['soap', 'washing'], ['soap', 'washing'], ['towel', 'washing'], ['soap', 'washing'], ['towel', 'washing'], ['washing']])"
   ]
  },
  {
   "cell_type": "code",
   "execution_count": 42,
   "metadata": {},
   "outputs": [
    {
     "name": "stdout",
     "output_type": "stream",
     "text": [
      "Sink count: 6 sinks\n",
      "Utilities: [['soap', 'washing'], ['soap', 'washing'], ['towel', 'washing'], ['soap', 'washing'], ['towel', 'washing'], ['washing']]\n",
      "Sink avaiability: 001000\n",
      "\n",
      "Queue growth: 10 per iterarion\n",
      "Max away: 5\n",
      "Num agents: 2\n",
      "Queue occupation status: MEDIUM\n",
      "\n",
      "Time spent for each task (mean and sd): {'soap': [10, 1], 'towel': [5, 0.5], 'washing': [3, 0.5]}\n",
      "Agents in queue: [<class_queue_old_old.Queue_agent object at 0x7d980a52df60>, <class_queue_old_old.Queue_agent object at 0x7d980a52ff70>]\n"
     ]
    }
   ],
   "source": [
    "print(f'Sink count: {queue.num_sinks} sinks')\n",
    "print(f'Utilities: {queue.array_utilities}')\n",
    "print(f'Sink avaiability: {queue.sinks_availability}\\n')\n",
    "\n",
    "print(f'Queue growth: {queue.queue_growth} per iterarion')\n",
    "print(f'Max away: {queue.away_max_size}')\n",
    "print(f'Num agents: {len(queue.agents)}')\n",
    "print(f'Queue occupation status: {queue.get_occupation()}\\n')\n",
    "\n",
    "print(f'Time spent for each task (mean and sd): {queue.queue_times}')\n",
    "print(f'Agents in queue: {queue.agents}')"
   ]
  },
  {
   "cell_type": "markdown",
   "metadata": {},
   "source": [
    "# Tests"
   ]
  },
  {
   "cell_type": "code",
   "execution_count": 44,
   "metadata": {},
   "outputs": [],
   "source": [
    "queue = cq.Queue(\n",
    "    # Sinks parameters\n",
    "    num_sinks=6, \n",
    "    array_utilities=[['soap', 'washing'], ['soap', 'washing'], ['towel', 'washing'], ['soap', 'washing'], ['towel', 'washing'], ['washing']], \n",
    "    queue_times={'soap': [10, 1], 'towel': [5, .5], 'washing': [3, .5]},\n",
    "\n",
    "    # Queue parameters\n",
    "    queue_growth=10,\n",
    "    away_max_size = 5,\n",
    "\n",
    "    # Optimization parameters \n",
    "    mode='collectivism', # mode can be 'collectivism' or 'egocentric'\n",
    "    collectivism_param_decay = 0.05, collectivism_param_mult = 20, \n",
    "    egocentric_penalty = -1, egocentric_terminal_reward = 20,\n",
    "\n",
    "    # SARSA parameters\n",
    "    sarsa_alpha=0.1, sarsa_gamma=0.1,\n",
    "\n",
    "    # Policy parameters\n",
    "    policy='random', # can be 'random' or 'e-soft'\n",
    "    policy_epsilon = 0.5, # The lower, the greeder\n",
    "\n",
    "    q_table = None\n",
    ")"
   ]
  },
  {
   "cell_type": "code",
   "execution_count": 40,
   "metadata": {},
   "outputs": [
    {
     "data": {
      "application/vnd.jupyter.widget-view+json": {
       "model_id": "1ae450a199274f008c3d06291b637462",
       "version_major": 2,
       "version_minor": 0
      },
      "text/plain": [
       "  0%|          | 0/1000000 [00:00<?, ?it/s]"
      ]
     },
     "metadata": {},
     "output_type": "display_data"
    },
    {
     "ename": "KeyboardInterrupt",
     "evalue": "",
     "output_type": "error",
     "traceback": [
      "\u001b[0;31m---------------------------------------------------------------------------\u001b[0m",
      "\u001b[0;31mKeyboardInterrupt\u001b[0m                         Traceback (most recent call last)",
      "Cell \u001b[0;32mIn[40], line 4\u001b[0m\n\u001b[1;32m      2\u001b[0m queue\u001b[38;5;241m.\u001b[39mreset_state()\n\u001b[1;32m      3\u001b[0m \u001b[38;5;28;01mfor\u001b[39;00m i \u001b[38;5;129;01min\u001b[39;00m tqdm(\u001b[38;5;28mrange\u001b[39m(\u001b[38;5;28mint\u001b[39m(\u001b[38;5;241m1e6\u001b[39m)), delay\u001b[38;5;241m=\u001b[39m\u001b[38;5;241m0\u001b[39m, miniters\u001b[38;5;241m=\u001b[39m\u001b[38;5;241m1\u001b[39m, smoothing\u001b[38;5;241m=\u001b[39m\u001b[38;5;241m0\u001b[39m):\n\u001b[0;32m----> 4\u001b[0m     \u001b[43mqueue\u001b[49m\u001b[38;5;241;43m.\u001b[39;49m\u001b[43mone_iteration\u001b[49m\u001b[43m(\u001b[49m\u001b[43moptimize\u001b[49m\u001b[38;5;241;43m=\u001b[39;49m\u001b[38;5;28;43;01mTrue\u001b[39;49;00m\u001b[43m)\u001b[49m\n",
      "File \u001b[0;32m~/Documents/UFMG/Certificado/Aberto - IA/RL/class_queue.py:148\u001b[0m, in \u001b[0;36mQueue.one_iteration\u001b[0;34m(self, optimize)\u001b[0m\n\u001b[1;32m    143\u001b[0m \u001b[38;5;28;01mfor\u001b[39;00m \u001b[38;5;28mid\u001b[39m \u001b[38;5;129;01min\u001b[39;00m ids_agents_ready_for_action:\n\u001b[1;32m    144\u001b[0m     \n\u001b[1;32m    145\u001b[0m     \u001b[38;5;66;03m# Att state in case the last agent have moved. If not, this line should do nothing\u001b[39;00m\n\u001b[1;32m    146\u001b[0m     \u001b[38;5;28mself\u001b[39m\u001b[38;5;241m.\u001b[39matt_agents_state([\u001b[38;5;28mid\u001b[39m])\n\u001b[0;32m--> 148\u001b[0m     action \u001b[38;5;241m=\u001b[39m \u001b[38;5;28;43mself\u001b[39;49m\u001b[38;5;241;43m.\u001b[39;49m\u001b[43magents\u001b[49m\u001b[43m[\u001b[49m\u001b[38;5;28;43mid\u001b[39;49m\u001b[43m]\u001b[49m\u001b[38;5;241;43m.\u001b[39;49m\u001b[43mchoose_action\u001b[49m\u001b[43m(\u001b[49m\u001b[38;5;28;43mself\u001b[39;49m\u001b[43m,\u001b[49m\u001b[38;5;28;43mself\u001b[39;49m\u001b[38;5;241;43m.\u001b[39;49m\u001b[43mq_table\u001b[49m\u001b[43m,\u001b[49m\u001b[38;5;28;43mself\u001b[39;49m\u001b[38;5;241;43m.\u001b[39;49m\u001b[43mpolicy_epsilon\u001b[49m\u001b[43m,\u001b[49m\u001b[38;5;28;43mself\u001b[39;49m\u001b[38;5;241;43m.\u001b[39;49m\u001b[43mpolicy\u001b[49m\u001b[43m)\u001b[49m\n\u001b[1;32m    149\u001b[0m     \u001b[38;5;66;03m# print('action:',action)\u001b[39;00m\n\u001b[1;32m    150\u001b[0m     \u001b[38;5;66;03m# (S1,A1,R1,S2,) -> (S1,A1,R1,S2,A2)\u001b[39;00m\n\u001b[1;32m    151\u001b[0m     \u001b[38;5;28mself\u001b[39m\u001b[38;5;241m.\u001b[39mtake_action(action, \u001b[38;5;28mid\u001b[39m)\n",
      "File \u001b[0;32m~/Documents/UFMG/Certificado/Aberto - IA/RL/class_queue.py:481\u001b[0m, in \u001b[0;36mQueue_agent.choose_action\u001b[0;34m(self, queue, q_table, epsilon, policy)\u001b[0m\n\u001b[1;32m    478\u001b[0m     \u001b[38;5;28mself\u001b[39m\u001b[38;5;241m.\u001b[39mstate_idx \u001b[38;5;241m=\u001b[39m \u001b[38;5;28mself\u001b[39m\u001b[38;5;241m.\u001b[39mget_q_value_index(\u001b[38;5;28mself\u001b[39m\u001b[38;5;241m.\u001b[39mstate, action, q_table)\n\u001b[1;32m    479\u001b[0m \u001b[38;5;28;01melif\u001b[39;00m policy\u001b[38;5;241m==\u001b[39m\u001b[38;5;124m'\u001b[39m\u001b[38;5;124me-soft\u001b[39m\u001b[38;5;124m'\u001b[39m:\n\u001b[1;32m    480\u001b[0m     \u001b[38;5;66;03m# e-soft policy\u001b[39;00m\n\u001b[0;32m--> 481\u001b[0m     action \u001b[38;5;241m=\u001b[39m \u001b[38;5;28;43mself\u001b[39;49m\u001b[38;5;241;43m.\u001b[39;49m\u001b[43me_soft_policy\u001b[49m\u001b[43m(\u001b[49m\u001b[43mvalid_actions\u001b[49m\u001b[43m,\u001b[49m\u001b[43m \u001b[49m\u001b[43mqueue\u001b[49m\u001b[43m,\u001b[49m\u001b[43m \u001b[49m\u001b[43mq_table\u001b[49m\u001b[43m,\u001b[49m\u001b[43m \u001b[49m\u001b[43mepsilon\u001b[49m\u001b[43m)\u001b[49m\n\u001b[1;32m    482\u001b[0m \u001b[38;5;28;01melse\u001b[39;00m:\n\u001b[1;32m    483\u001b[0m     \u001b[38;5;28mprint\u001b[39m(\u001b[38;5;124m'\u001b[39m\u001b[38;5;124mInvalid policy\u001b[39m\u001b[38;5;124m'\u001b[39m)\n",
      "File \u001b[0;32m~/Documents/UFMG/Certificado/Aberto - IA/RL/class_queue.py:502\u001b[0m, in \u001b[0;36mQueue_agent.e_soft_policy\u001b[0;34m(self, valid_actions, queue, q_table, epsilon)\u001b[0m\n\u001b[1;32m    500\u001b[0m \u001b[38;5;28;01mfor\u001b[39;00m valid_action \u001b[38;5;129;01min\u001b[39;00m valid_actions:\n\u001b[1;32m    501\u001b[0m     state \u001b[38;5;241m=\u001b[39m \u001b[38;5;28mself\u001b[39m\u001b[38;5;241m.\u001b[39mget_agent_state(queue\u001b[38;5;241m.\u001b[39msinks_availability, queue\u001b[38;5;241m.\u001b[39mget_occupation())\n\u001b[0;32m--> 502\u001b[0m     state_idx \u001b[38;5;241m=\u001b[39m \u001b[38;5;28;43mself\u001b[39;49m\u001b[38;5;241;43m.\u001b[39;49m\u001b[43mget_q_value_index\u001b[49m\u001b[43m(\u001b[49m\u001b[43mstate\u001b[49m\u001b[43m,\u001b[49m\u001b[43m \u001b[49m\u001b[43mvalid_action\u001b[49m\u001b[43m,\u001b[49m\u001b[43m \u001b[49m\u001b[43mq_table\u001b[49m\u001b[43m)\u001b[49m\n\u001b[1;32m    503\u001b[0m     states_idxs\u001b[38;5;241m.\u001b[39mappend(state_idx)\n\u001b[1;32m    504\u001b[0m     q_s\u001b[38;5;241m.\u001b[39mappend(q_table\u001b[38;5;241m.\u001b[39miat[state_idx, \u001b[38;5;241m-\u001b[39m\u001b[38;5;241m1\u001b[39m])\n",
      "File \u001b[0;32m~/Documents/UFMG/Certificado/Aberto - IA/RL/class_queue.py:515\u001b[0m, in \u001b[0;36mQueue_agent.get_q_value_index\u001b[0;34m(self, state, action, q_table)\u001b[0m\n\u001b[1;32m    514\u001b[0m \u001b[38;5;28;01mdef\u001b[39;00m \u001b[38;5;21mget_q_value_index\u001b[39m(\u001b[38;5;28mself\u001b[39m, state, action, q_table):\n\u001b[0;32m--> 515\u001b[0m     index \u001b[38;5;241m=\u001b[39m q_table\u001b[38;5;241m.\u001b[39mloc[\u001b[43m(\u001b[49m\u001b[43mq_table\u001b[49m\u001b[43m[\u001b[49m\u001b[38;5;124;43m'\u001b[39;49m\u001b[38;5;124;43mPOS\u001b[39;49m\u001b[38;5;124;43m'\u001b[39;49m\u001b[43m]\u001b[49m\u001b[43m \u001b[49m\u001b[38;5;241;43m==\u001b[39;49m\u001b[43m \u001b[49m\u001b[43mstate\u001b[49m\u001b[43m[\u001b[49m\u001b[38;5;241;43m0\u001b[39;49m\u001b[43m]\u001b[49m\u001b[43m)\u001b[49m\u001b[43m \u001b[49m\u001b[38;5;241;43m&\u001b[39;49m\u001b[43m \u001b[49m\u001b[43m(\u001b[49m\u001b[43mq_table\u001b[49m\u001b[43m[\u001b[49m\u001b[38;5;124;43m'\u001b[39;49m\u001b[38;5;124;43mNEEDS\u001b[39;49m\u001b[38;5;124;43m'\u001b[39;49m\u001b[43m]\u001b[49m\u001b[38;5;241;43m==\u001b[39;49m\u001b[43mstate\u001b[49m\u001b[43m[\u001b[49m\u001b[38;5;241;43m1\u001b[39;49m\u001b[43m]\u001b[49m\u001b[43m)\u001b[49m \u001b[38;5;241m&\u001b[39m (q_table[\u001b[38;5;124m'\u001b[39m\u001b[38;5;124mSINKS\u001b[39m\u001b[38;5;124m'\u001b[39m]\u001b[38;5;241m==\u001b[39mstate[\u001b[38;5;241m2\u001b[39m]) \u001b[38;5;241m&\u001b[39m (q_table[\u001b[38;5;124m'\u001b[39m\u001b[38;5;124mQUEUE\u001b[39m\u001b[38;5;124m'\u001b[39m]\u001b[38;5;241m==\u001b[39mstate[\u001b[38;5;241m3\u001b[39m]) \u001b[38;5;241m&\u001b[39m (q_table[\u001b[38;5;124m'\u001b[39m\u001b[38;5;124mACTION\u001b[39m\u001b[38;5;124m'\u001b[39m]\u001b[38;5;241m==\u001b[39maction)]\u001b[38;5;241m.\u001b[39mindex\u001b[38;5;241m.\u001b[39mitem()\n\u001b[1;32m    516\u001b[0m     \u001b[38;5;28;01mreturn\u001b[39;00m index\n",
      "File \u001b[0;32m~/miniconda3/envs/TP_RL/lib/python3.10/site-packages/pandas/core/ops/common.py:76\u001b[0m, in \u001b[0;36m_unpack_zerodim_and_defer.<locals>.new_method\u001b[0;34m(self, other)\u001b[0m\n\u001b[1;32m     72\u001b[0m             \u001b[38;5;28;01mreturn\u001b[39;00m \u001b[38;5;28mNotImplemented\u001b[39m\n\u001b[1;32m     74\u001b[0m other \u001b[38;5;241m=\u001b[39m item_from_zerodim(other)\n\u001b[0;32m---> 76\u001b[0m \u001b[38;5;28;01mreturn\u001b[39;00m \u001b[43mmethod\u001b[49m\u001b[43m(\u001b[49m\u001b[38;5;28;43mself\u001b[39;49m\u001b[43m,\u001b[49m\u001b[43m \u001b[49m\u001b[43mother\u001b[49m\u001b[43m)\u001b[49m\n",
      "File \u001b[0;32m~/miniconda3/envs/TP_RL/lib/python3.10/site-packages/pandas/core/arraylike.py:70\u001b[0m, in \u001b[0;36mOpsMixin.__and__\u001b[0;34m(self, other)\u001b[0m\n\u001b[1;32m     68\u001b[0m \u001b[38;5;129m@unpack_zerodim_and_defer\u001b[39m(\u001b[38;5;124m\"\u001b[39m\u001b[38;5;124m__and__\u001b[39m\u001b[38;5;124m\"\u001b[39m)\n\u001b[1;32m     69\u001b[0m \u001b[38;5;28;01mdef\u001b[39;00m \u001b[38;5;21m__and__\u001b[39m(\u001b[38;5;28mself\u001b[39m, other):\n\u001b[0;32m---> 70\u001b[0m     \u001b[38;5;28;01mreturn\u001b[39;00m \u001b[38;5;28;43mself\u001b[39;49m\u001b[38;5;241;43m.\u001b[39;49m\u001b[43m_logical_method\u001b[49m\u001b[43m(\u001b[49m\u001b[43mother\u001b[49m\u001b[43m,\u001b[49m\u001b[43m \u001b[49m\u001b[43moperator\u001b[49m\u001b[38;5;241;43m.\u001b[39;49m\u001b[43mand_\u001b[49m\u001b[43m)\u001b[49m\n",
      "File \u001b[0;32m~/miniconda3/envs/TP_RL/lib/python3.10/site-packages/pandas/core/series.py:6121\u001b[0m, in \u001b[0;36mSeries._logical_method\u001b[0;34m(self, other, op)\u001b[0m\n\u001b[1;32m   6118\u001b[0m lvalues \u001b[38;5;241m=\u001b[39m \u001b[38;5;28mself\u001b[39m\u001b[38;5;241m.\u001b[39m_values\n\u001b[1;32m   6119\u001b[0m rvalues \u001b[38;5;241m=\u001b[39m extract_array(other, extract_numpy\u001b[38;5;241m=\u001b[39m\u001b[38;5;28;01mTrue\u001b[39;00m, extract_range\u001b[38;5;241m=\u001b[39m\u001b[38;5;28;01mTrue\u001b[39;00m)\n\u001b[0;32m-> 6121\u001b[0m res_values \u001b[38;5;241m=\u001b[39m \u001b[43mops\u001b[49m\u001b[38;5;241;43m.\u001b[39;49m\u001b[43mlogical_op\u001b[49m\u001b[43m(\u001b[49m\u001b[43mlvalues\u001b[49m\u001b[43m,\u001b[49m\u001b[43m \u001b[49m\u001b[43mrvalues\u001b[49m\u001b[43m,\u001b[49m\u001b[43m \u001b[49m\u001b[43mop\u001b[49m\u001b[43m)\u001b[49m\n\u001b[1;32m   6122\u001b[0m \u001b[38;5;28;01mreturn\u001b[39;00m \u001b[38;5;28mself\u001b[39m\u001b[38;5;241m.\u001b[39m_construct_result(res_values, name\u001b[38;5;241m=\u001b[39mres_name)\n",
      "File \u001b[0;32m~/miniconda3/envs/TP_RL/lib/python3.10/site-packages/pandas/core/ops/array_ops.py:448\u001b[0m, in \u001b[0;36mlogical_op\u001b[0;34m(left, right, op)\u001b[0m\n\u001b[1;32m    446\u001b[0m     is_other_int_dtype \u001b[38;5;241m=\u001b[39m rvalues\u001b[38;5;241m.\u001b[39mdtype\u001b[38;5;241m.\u001b[39mkind \u001b[38;5;129;01min\u001b[39;00m \u001b[38;5;124m\"\u001b[39m\u001b[38;5;124miu\u001b[39m\u001b[38;5;124m\"\u001b[39m\n\u001b[1;32m    447\u001b[0m     \u001b[38;5;28;01mif\u001b[39;00m \u001b[38;5;129;01mnot\u001b[39;00m is_other_int_dtype:\n\u001b[0;32m--> 448\u001b[0m         rvalues \u001b[38;5;241m=\u001b[39m \u001b[43mfill_bool\u001b[49m\u001b[43m(\u001b[49m\u001b[43mrvalues\u001b[49m\u001b[43m,\u001b[49m\u001b[43m \u001b[49m\u001b[43mlvalues\u001b[49m\u001b[43m)\u001b[49m\n\u001b[1;32m    450\u001b[0m \u001b[38;5;28;01melse\u001b[39;00m:\n\u001b[1;32m    451\u001b[0m     \u001b[38;5;66;03m# i.e. scalar\u001b[39;00m\n\u001b[1;32m    452\u001b[0m     is_other_int_dtype \u001b[38;5;241m=\u001b[39m lib\u001b[38;5;241m.\u001b[39mis_integer(rvalues)\n",
      "File \u001b[0;32m~/miniconda3/envs/TP_RL/lib/python3.10/site-packages/pandas/core/ops/array_ops.py:420\u001b[0m, in \u001b[0;36mlogical_op.<locals>.fill_bool\u001b[0;34m(x, left)\u001b[0m\n\u001b[1;32m    417\u001b[0m         x[mask] \u001b[38;5;241m=\u001b[39m \u001b[38;5;28;01mFalse\u001b[39;00m\n\u001b[1;32m    419\u001b[0m \u001b[38;5;28;01mif\u001b[39;00m left \u001b[38;5;129;01mis\u001b[39;00m \u001b[38;5;28;01mNone\u001b[39;00m \u001b[38;5;129;01mor\u001b[39;00m left\u001b[38;5;241m.\u001b[39mdtype\u001b[38;5;241m.\u001b[39mkind \u001b[38;5;241m==\u001b[39m \u001b[38;5;124m\"\u001b[39m\u001b[38;5;124mb\u001b[39m\u001b[38;5;124m\"\u001b[39m:\n\u001b[0;32m--> 420\u001b[0m     x \u001b[38;5;241m=\u001b[39m \u001b[43mx\u001b[49m\u001b[38;5;241;43m.\u001b[39;49m\u001b[43mastype\u001b[49m\u001b[43m(\u001b[49m\u001b[38;5;28;43mbool\u001b[39;49m\u001b[43m)\u001b[49m\n\u001b[1;32m    421\u001b[0m \u001b[38;5;28;01mreturn\u001b[39;00m x\n",
      "\u001b[0;31mKeyboardInterrupt\u001b[0m: "
     ]
    }
   ],
   "source": [
    "# Reset table\n",
    "queue.q_table = queue.get_new_q_table()\n",
    "queue.reset_state()\n",
    "\n",
    "# Store results\n",
    "num_agents = []\n",
    "rewards = []\n",
    "\n",
    "for i in tqdm(range(int(1e6)), delay=0, miniters=1, smoothing=0):\n",
    "    reward = queue.one_iteration(optimize=True)\n",
    "\n",
    "    num_agents.append(len(queue.agents))\n",
    "    rewards.append(reward)"
   ]
  },
  {
   "cell_type": "markdown",
   "metadata": {},
   "source": [
    "# Debug"
   ]
  },
  {
   "cell_type": "code",
   "execution_count": 22,
   "metadata": {},
   "outputs": [
    {
     "data": {
      "application/vnd.jupyter.widget-view+json": {
       "model_id": "4642b076d0b64253a44fa66e926fdd7a",
       "version_major": 2,
       "version_minor": 0
      },
      "text/plain": [
       "  0%|          | 0/100 [00:00<?, ?it/s]"
      ]
     },
     "metadata": {},
     "output_type": "display_data"
    },
    {
     "ename": "TypeError",
     "evalue": "'float' object is not iterable",
     "output_type": "error",
     "traceback": [
      "\u001b[0;31m---------------------------------------------------------------------------\u001b[0m",
      "\u001b[0;31mTypeError\u001b[0m                                 Traceback (most recent call last)",
      "Cell \u001b[0;32mIn[22], line 4\u001b[0m\n\u001b[1;32m      2\u001b[0m \u001b[38;5;28;01mfor\u001b[39;00m i \u001b[38;5;129;01min\u001b[39;00m tqdm(\u001b[38;5;28mrange\u001b[39m(\u001b[38;5;28mint\u001b[39m(\u001b[38;5;241m100\u001b[39m)), delay\u001b[38;5;241m=\u001b[39m\u001b[38;5;241m1\u001b[39m, miniters\u001b[38;5;241m=\u001b[39m\u001b[38;5;241m1\u001b[39m):\n\u001b[1;32m      3\u001b[0m     agents_for_optimization \u001b[38;5;241m=\u001b[39m queue\u001b[38;5;241m.\u001b[39mone_iteration(optimize\u001b[38;5;241m=\u001b[39m\u001b[38;5;28;01mFalse\u001b[39;00m)\n\u001b[0;32m----> 4\u001b[0m     \u001b[38;5;28;01mfor\u001b[39;00m agent \u001b[38;5;129;01min\u001b[39;00m agents_for_optimization:\n\u001b[1;32m      5\u001b[0m         \u001b[38;5;28;01mif\u001b[39;00m (agent\u001b[38;5;241m.\u001b[39mstate \u001b[38;5;241m!=\u001b[39m \u001b[38;5;124m'\u001b[39m\u001b[38;5;124mdone\u001b[39m\u001b[38;5;124m'\u001b[39m) \u001b[38;5;129;01mand\u001b[39;00m (agent\u001b[38;5;241m.\u001b[39mlast_state\u001b[38;5;241m!=\u001b[39m\u001b[38;5;28;01mNone\u001b[39;00m):\n\u001b[1;32m      6\u001b[0m             \u001b[38;5;28;01mif\u001b[39;00m \u001b[38;5;129;01mnot\u001b[39;00m ((queue\u001b[38;5;241m.\u001b[39mget_q_value_index(agent\u001b[38;5;241m.\u001b[39mstate, agent\u001b[38;5;241m.\u001b[39maction) \u001b[38;5;241m==\u001b[39m agent\u001b[38;5;241m.\u001b[39mstate_idx) \u001b[38;5;129;01mand\u001b[39;00m (queue\u001b[38;5;241m.\u001b[39mget_q_value_index(agent\u001b[38;5;241m.\u001b[39mlast_state, agent\u001b[38;5;241m.\u001b[39mlast_action) \u001b[38;5;241m==\u001b[39m agent\u001b[38;5;241m.\u001b[39mlast_state_idx)):\n",
      "\u001b[0;31mTypeError\u001b[0m: 'float' object is not iterable"
     ]
    }
   ],
   "source": [
    "queue.reset_state()\n",
    "for i in tqdm(range(int(100)), delay=1, miniters=1):\n",
    "    agents_for_optimization = queue.one_iteration(optimize=False)\n",
    "    for agent in agents_for_optimization:\n",
    "        if (agent.state != 'done') and (agent.last_state!=None):\n",
    "            if not ((queue.get_q_value_index(agent.state, agent.action) == agent.state_idx) and (queue.get_q_value_index(agent.last_state, agent.last_action) == agent.last_state_idx)):\n",
    "                print('Erro')\n",
    "        else:\n",
    "            print(agent.last_state, agent.last_action, agent.state, agent.action)"
   ]
  }
 ],
 "metadata": {
  "kernelspec": {
   "display_name": "TP_RL",
   "language": "python",
   "name": "python3"
  },
  "language_info": {
   "codemirror_mode": {
    "name": "ipython",
    "version": 3
   },
   "file_extension": ".py",
   "mimetype": "text/x-python",
   "name": "python",
   "nbconvert_exporter": "python",
   "pygments_lexer": "ipython3",
   "version": "3.10.9"
  }
 },
 "nbformat": 4,
 "nbformat_minor": 2
}
